{
 "cells": [
  {
   "cell_type": "code",
   "execution_count": 1319,
   "metadata": {
    "collapsed": true
   },
   "outputs": [],
   "source": [
    "import numpy as np\n",
    "import pandas as pd\n",
    "import matplotlib.pyplot as plt"
   ]
  },
  {
   "cell_type": "markdown",
   "source": [
    "# PROJEKT\n",
    "## GOOGLE STORE RATING\n",
    "### Katarzyna Sobczyszyn"
   ],
   "metadata": {
    "collapsed": false,
    "pycharm": {
     "name": "#%% md\n"
    }
   }
  },
  {
   "cell_type": "code",
   "execution_count": 1320,
   "outputs": [
    {
     "data": {
      "text/html": "<div>\n<style scoped>\n    .dataframe tbody tr th:only-of-type {\n        vertical-align: middle;\n    }\n\n    .dataframe tbody tr th {\n        vertical-align: top;\n    }\n\n    .dataframe thead th {\n        text-align: right;\n    }\n</style>\n<table border=\"1\" class=\"dataframe\">\n  <thead>\n    <tr style=\"text-align: right;\">\n      <th></th>\n      <th>App</th>\n      <th>Category</th>\n      <th>Rating</th>\n      <th>Reviews</th>\n      <th>Size</th>\n      <th>Installs</th>\n      <th>Type</th>\n      <th>Price</th>\n      <th>Content Rating</th>\n      <th>Genres</th>\n      <th>Last Updated</th>\n      <th>Current Ver</th>\n      <th>Android Ver</th>\n    </tr>\n  </thead>\n  <tbody>\n    <tr>\n      <th>0</th>\n      <td>Photo Editor &amp; Candy Camera &amp; Grid &amp; ScrapBook</td>\n      <td>ART_AND_DESIGN</td>\n      <td>4.1</td>\n      <td>159</td>\n      <td>19M</td>\n      <td>10,000+</td>\n      <td>Free</td>\n      <td>0</td>\n      <td>Everyone</td>\n      <td>Art &amp; Design</td>\n      <td>January 7, 2018</td>\n      <td>1.0.0</td>\n      <td>4.0.3 and up</td>\n    </tr>\n    <tr>\n      <th>1</th>\n      <td>Coloring book moana</td>\n      <td>ART_AND_DESIGN</td>\n      <td>3.9</td>\n      <td>967</td>\n      <td>14M</td>\n      <td>500,000+</td>\n      <td>Free</td>\n      <td>0</td>\n      <td>Everyone</td>\n      <td>Art &amp; Design;Pretend Play</td>\n      <td>January 15, 2018</td>\n      <td>2.0.0</td>\n      <td>4.0.3 and up</td>\n    </tr>\n    <tr>\n      <th>2</th>\n      <td>U Launcher Lite – FREE Live Cool Themes, Hide ...</td>\n      <td>ART_AND_DESIGN</td>\n      <td>4.7</td>\n      <td>87510</td>\n      <td>8.7M</td>\n      <td>5,000,000+</td>\n      <td>Free</td>\n      <td>0</td>\n      <td>Everyone</td>\n      <td>Art &amp; Design</td>\n      <td>August 1, 2018</td>\n      <td>1.2.4</td>\n      <td>4.0.3 and up</td>\n    </tr>\n    <tr>\n      <th>3</th>\n      <td>Sketch - Draw &amp; Paint</td>\n      <td>ART_AND_DESIGN</td>\n      <td>4.5</td>\n      <td>215644</td>\n      <td>25M</td>\n      <td>50,000,000+</td>\n      <td>Free</td>\n      <td>0</td>\n      <td>Teen</td>\n      <td>Art &amp; Design</td>\n      <td>June 8, 2018</td>\n      <td>Varies with device</td>\n      <td>4.2 and up</td>\n    </tr>\n    <tr>\n      <th>4</th>\n      <td>Pixel Draw - Number Art Coloring Book</td>\n      <td>ART_AND_DESIGN</td>\n      <td>4.3</td>\n      <td>967</td>\n      <td>2.8M</td>\n      <td>100,000+</td>\n      <td>Free</td>\n      <td>0</td>\n      <td>Everyone</td>\n      <td>Art &amp; Design;Creativity</td>\n      <td>June 20, 2018</td>\n      <td>1.1</td>\n      <td>4.4 and up</td>\n    </tr>\n  </tbody>\n</table>\n</div>",
      "text/plain": "                                                 App        Category  Rating  \\\n0     Photo Editor & Candy Camera & Grid & ScrapBook  ART_AND_DESIGN     4.1   \n1                                Coloring book moana  ART_AND_DESIGN     3.9   \n2  U Launcher Lite – FREE Live Cool Themes, Hide ...  ART_AND_DESIGN     4.7   \n3                              Sketch - Draw & Paint  ART_AND_DESIGN     4.5   \n4              Pixel Draw - Number Art Coloring Book  ART_AND_DESIGN     4.3   \n\n  Reviews  Size     Installs  Type Price Content Rating  \\\n0     159   19M      10,000+  Free     0       Everyone   \n1     967   14M     500,000+  Free     0       Everyone   \n2   87510  8.7M   5,000,000+  Free     0       Everyone   \n3  215644   25M  50,000,000+  Free     0           Teen   \n4     967  2.8M     100,000+  Free     0       Everyone   \n\n                      Genres      Last Updated         Current Ver  \\\n0               Art & Design   January 7, 2018               1.0.0   \n1  Art & Design;Pretend Play  January 15, 2018               2.0.0   \n2               Art & Design    August 1, 2018               1.2.4   \n3               Art & Design      June 8, 2018  Varies with device   \n4    Art & Design;Creativity     June 20, 2018                 1.1   \n\n    Android Ver  \n0  4.0.3 and up  \n1  4.0.3 and up  \n2  4.0.3 and up  \n3    4.2 and up  \n4    4.4 and up  "
     },
     "execution_count": 1320,
     "metadata": {},
     "output_type": "execute_result"
    }
   ],
   "source": [
    "import os\n",
    "data =  pd.read_csv(os.path.join(\"googleplaystore.csv\"))\n",
    "data.head()"
   ],
   "metadata": {
    "collapsed": false,
    "pycharm": {
     "name": "#%%\n"
    }
   }
  },
  {
   "cell_type": "markdown",
   "source": [
    "## OPIS DANYCH"
   ],
   "metadata": {
    "collapsed": false,
    "pycharm": {
     "name": "#%% md\n"
    }
   }
  },
  {
   "cell_type": "code",
   "execution_count": 1321,
   "outputs": [
    {
     "name": "stdout",
     "output_type": "stream",
     "text": [
      "<class 'pandas.core.frame.DataFrame'>\n",
      "RangeIndex: 10841 entries, 0 to 10840\n",
      "Data columns (total 13 columns):\n",
      " #   Column          Non-Null Count  Dtype  \n",
      "---  ------          --------------  -----  \n",
      " 0   App             10841 non-null  object \n",
      " 1   Category        10841 non-null  object \n",
      " 2   Rating          9367 non-null   float64\n",
      " 3   Reviews         10841 non-null  object \n",
      " 4   Size            10841 non-null  object \n",
      " 5   Installs        10841 non-null  object \n",
      " 6   Type            10840 non-null  object \n",
      " 7   Price           10841 non-null  object \n",
      " 8   Content Rating  10840 non-null  object \n",
      " 9   Genres          10841 non-null  object \n",
      " 10  Last Updated    10841 non-null  object \n",
      " 11  Current Ver     10833 non-null  object \n",
      " 12  Android Ver     10838 non-null  object \n",
      "dtypes: float64(1), object(12)\n",
      "memory usage: 1.1+ MB\n"
     ]
    },
    {
     "data": {
      "text/html": "<div>\n<style scoped>\n    .dataframe tbody tr th:only-of-type {\n        vertical-align: middle;\n    }\n\n    .dataframe tbody tr th {\n        vertical-align: top;\n    }\n\n    .dataframe thead th {\n        text-align: right;\n    }\n</style>\n<table border=\"1\" class=\"dataframe\">\n  <thead>\n    <tr style=\"text-align: right;\">\n      <th></th>\n      <th>Rating</th>\n    </tr>\n  </thead>\n  <tbody>\n    <tr>\n      <th>count</th>\n      <td>9367.000000</td>\n    </tr>\n    <tr>\n      <th>mean</th>\n      <td>4.193338</td>\n    </tr>\n    <tr>\n      <th>std</th>\n      <td>0.537431</td>\n    </tr>\n    <tr>\n      <th>min</th>\n      <td>1.000000</td>\n    </tr>\n    <tr>\n      <th>25%</th>\n      <td>4.000000</td>\n    </tr>\n    <tr>\n      <th>50%</th>\n      <td>4.300000</td>\n    </tr>\n    <tr>\n      <th>75%</th>\n      <td>4.500000</td>\n    </tr>\n    <tr>\n      <th>max</th>\n      <td>19.000000</td>\n    </tr>\n  </tbody>\n</table>\n</div>",
      "text/plain": "            Rating\ncount  9367.000000\nmean      4.193338\nstd       0.537431\nmin       1.000000\n25%       4.000000\n50%       4.300000\n75%       4.500000\nmax      19.000000"
     },
     "execution_count": 1321,
     "metadata": {},
     "output_type": "execute_result"
    }
   ],
   "source": [
    "data.info()\n",
    "data.describe()"
   ],
   "metadata": {
    "collapsed": false,
    "pycharm": {
     "name": "#%%\n"
    }
   }
  },
  {
   "cell_type": "markdown",
   "source": [
    "## OBRÓBKA DANYCH"
   ],
   "metadata": {
    "collapsed": false
   }
  },
  {
   "cell_type": "markdown",
   "source": [
    "### Niepotrzebne kolumny i null wartości"
   ],
   "metadata": {
    "collapsed": false
   }
  },
  {
   "cell_type": "code",
   "execution_count": 1322,
   "outputs": [
    {
     "name": "stdout",
     "output_type": "stream",
     "text": [
      "Usuwam kolumnę unikalnych wartości 'App' \n",
      "Usuwam kolumnę 'Type' bo opisuje ją kolumna 'Price' \n",
      "Usuwam kolumnę 'Current Ver' bo liczba kategorii to :  2832\n",
      "Usuwam kolumnę 'Genres' bo jest to poszerzona kategoria kolumny 'Category'\n",
      "Usuwam kolumnę 'Size' bo zawiera : 1695 nieprecyzyjnych danych\n",
      "Liczba aplikacji :  9364\n"
     ]
    },
    {
     "data": {
      "text/html": "<div>\n<style scoped>\n    .dataframe tbody tr th:only-of-type {\n        vertical-align: middle;\n    }\n\n    .dataframe tbody tr th {\n        vertical-align: top;\n    }\n\n    .dataframe thead th {\n        text-align: right;\n    }\n</style>\n<table border=\"1\" class=\"dataframe\">\n  <thead>\n    <tr style=\"text-align: right;\">\n      <th></th>\n      <th>Category</th>\n      <th>Rating</th>\n      <th>Reviews</th>\n      <th>Installs</th>\n      <th>Price</th>\n      <th>Content Rating</th>\n      <th>Last Updated</th>\n      <th>Android Ver</th>\n    </tr>\n  </thead>\n  <tbody>\n    <tr>\n      <th>0</th>\n      <td>ART_AND_DESIGN</td>\n      <td>4.1</td>\n      <td>159</td>\n      <td>10,000+</td>\n      <td>0</td>\n      <td>Everyone</td>\n      <td>January 7, 2018</td>\n      <td>4.0.3 and up</td>\n    </tr>\n    <tr>\n      <th>1</th>\n      <td>ART_AND_DESIGN</td>\n      <td>3.9</td>\n      <td>967</td>\n      <td>500,000+</td>\n      <td>0</td>\n      <td>Everyone</td>\n      <td>January 15, 2018</td>\n      <td>4.0.3 and up</td>\n    </tr>\n    <tr>\n      <th>2</th>\n      <td>ART_AND_DESIGN</td>\n      <td>4.7</td>\n      <td>87510</td>\n      <td>5,000,000+</td>\n      <td>0</td>\n      <td>Everyone</td>\n      <td>August 1, 2018</td>\n      <td>4.0.3 and up</td>\n    </tr>\n    <tr>\n      <th>3</th>\n      <td>ART_AND_DESIGN</td>\n      <td>4.5</td>\n      <td>215644</td>\n      <td>50,000,000+</td>\n      <td>0</td>\n      <td>Teen</td>\n      <td>June 8, 2018</td>\n      <td>4.2 and up</td>\n    </tr>\n    <tr>\n      <th>4</th>\n      <td>ART_AND_DESIGN</td>\n      <td>4.3</td>\n      <td>967</td>\n      <td>100,000+</td>\n      <td>0</td>\n      <td>Everyone</td>\n      <td>June 20, 2018</td>\n      <td>4.4 and up</td>\n    </tr>\n  </tbody>\n</table>\n</div>",
      "text/plain": "         Category  Rating Reviews     Installs Price Content Rating  \\\n0  ART_AND_DESIGN     4.1     159      10,000+     0       Everyone   \n1  ART_AND_DESIGN     3.9     967     500,000+     0       Everyone   \n2  ART_AND_DESIGN     4.7   87510   5,000,000+     0       Everyone   \n3  ART_AND_DESIGN     4.5  215644  50,000,000+     0           Teen   \n4  ART_AND_DESIGN     4.3     967     100,000+     0       Everyone   \n\n       Last Updated   Android Ver  \n0   January 7, 2018  4.0.3 and up  \n1  January 15, 2018  4.0.3 and up  \n2    August 1, 2018  4.0.3 and up  \n3      June 8, 2018    4.2 and up  \n4     June 20, 2018    4.4 and up  "
     },
     "execution_count": 1322,
     "metadata": {},
     "output_type": "execute_result"
    }
   ],
   "source": [
    "cols = ['App', 'Type','Current Ver','Genres','Size']\n",
    "print(\"Usuwam kolumnę unikalnych wartości 'App' \")\n",
    "print(\"Usuwam kolumnę 'Type' bo opisuje ją kolumna 'Price' \")\n",
    "print(\"Usuwam kolumnę 'Current Ver' bo liczba kategorii to : \", data['Current Ver'].nunique())\n",
    "print(\"Usuwam kolumnę 'Genres' bo jest to poszerzona kategoria kolumny 'Category'\")\n",
    "print(\"Usuwam kolumnę 'Size' bo zawiera :\",len(data.loc[data['Size'] =='Varies with device']),\"nieprecyzyjnych danych\")\n",
    "data = data.drop(cols, axis=1)\n",
    "data.dropna(inplace= True)\n",
    "print('Liczba aplikacji : ' , len(data))\n",
    "data.head()"
   ],
   "metadata": {
    "collapsed": false,
    "pycharm": {
     "name": "#%%\n"
    }
   }
  },
  {
   "cell_type": "code",
   "execution_count": 1323,
   "outputs": [
    {
     "name": "stdout",
     "output_type": "stream",
     "text": [
      "Liczba kategorii w kolumnie 'Category' :  33\n",
      "Liczba aplikacji w których 'Reviews' nie jest liczbą : 0\n",
      "Liczba kategorii w kolumnie 'Installs' :  19\n",
      "Liczba kategorii w kolumnie 'Android Ver' :  31\n",
      "Liczba kategorii w kolumnie 'Content Rating' :  6\n"
     ]
    }
   ],
   "source": [
    "print(\"Liczba kategorii w kolumnie 'Category' : \", data['Category'].nunique())\n",
    "print(\"Liczba aplikacji w których 'Reviews' nie jest liczbą :\", len(data[data['Reviews'].str.match('^[0-9]+$')==False]))\n",
    "data['Reviews'] = data['Reviews'].astype('int')\n",
    "print(\"Liczba kategorii w kolumnie 'Installs' : \", data['Installs'].nunique())\n",
    "print(\"Liczba kategorii w kolumnie 'Android Ver' : \", data['Android Ver'].nunique())\n",
    "print(\"Liczba kategorii w kolumnie 'Content Rating' : \", data['Content Rating'].nunique())"
   ],
   "metadata": {
    "collapsed": false,
    "pycharm": {
     "name": "#%%\n"
    }
   }
  },
  {
   "cell_type": "markdown",
   "source": [
    "### Poprawki\n"
   ],
   "metadata": {
    "collapsed": false,
    "pycharm": {
     "name": "#%% md\n"
    }
   }
  },
  {
   "cell_type": "markdown",
   "source": [
    "#### Zmieniam 'Last Updated' na rok (int)"
   ],
   "metadata": {
    "collapsed": false,
    "pycharm": {
     "name": "#%% md\n"
    }
   }
  },
  {
   "cell_type": "code",
   "execution_count": 1324,
   "outputs": [
    {
     "name": "stdout",
     "output_type": "stream",
     "text": [
      "We wszystkich aplikacjach 'Last Updated' kończy się 4 cyfrową liczbą (rokiem) : True\n",
      "Teraz liczba kategorii w kolumnie 'Last Updated' :  9\n",
      "2018    6506\n",
      "2017    1498\n",
      "2016     651\n",
      "2015     388\n",
      "2014     190\n",
      "2013      94\n",
      "2012      21\n",
      "2011      15\n",
      "2010       1\n",
      "Name: Last Updated, dtype: int64\n"
     ]
    }
   ],
   "source": [
    "print(\"We wszystkich aplikacjach 'Last Updated' kończy się 4 cyfrową liczbą (rokiem) :\", len(data[data['Last Updated'].str.match('.*, [0-9]{4}$') ==False]) ==0 )\n",
    "data['Last Updated'] = data['Last Updated'].str[-4:]\n",
    "print(\"Teraz liczba kategorii w kolumnie 'Last Updated' : \", data['Last Updated'].nunique())\n",
    "print(data['Last Updated'].value_counts())\n",
    "data['Last Updated'] = data['Last Updated'].astype('int')"
   ],
   "metadata": {
    "collapsed": false,
    "pycharm": {
     "name": "#%%\n"
    }
   }
  },
  {
   "cell_type": "markdown",
   "source": [
    "#### Zmieniam 'Price' by była liczbą (usuwam '$')"
   ],
   "metadata": {
    "collapsed": false
   }
  },
  {
   "cell_type": "code",
   "execution_count": 1325,
   "outputs": [
    {
     "name": "stdout",
     "output_type": "stream",
     "text": [
      "Wszystkie aplikacje w których 'Price' nie jest liczbą, rozpoczynają się '$' : True\n",
      "Po poprawie liczba aplikacji w których 'Price' nie jest liczbą : 0\n"
     ]
    }
   ],
   "source": [
    "print(\"Wszystkie aplikacje w których 'Price' nie jest liczbą, rozpoczynają się '$' :\", len(data[data['Price'].str.match('^\\\\$[0-9\\\\.]+$')])==len(data[data['Price'].str.match('^[0-9\\\\.]+$') ==False]))\n",
    "data['Price'] = data['Price'].str[-1:]\n",
    "print(\"Po poprawie liczba aplikacji w których 'Price' nie jest liczbą :\", len(data[data['Price'].str.match('^[0-9\\\\.]+$')==False]))\n",
    "data['Price'] = data['Price'].astype('float')"
   ],
   "metadata": {
    "collapsed": false,
    "pycharm": {
     "name": "#%%\n"
    }
   }
  },
  {
   "cell_type": "markdown",
   "source": [
    "### PO OBRÓBCE"
   ],
   "metadata": {
    "collapsed": false
   }
  },
  {
   "cell_type": "code",
   "execution_count": 1326,
   "outputs": [
    {
     "name": "stdout",
     "output_type": "stream",
     "text": [
      "<class 'pandas.core.frame.DataFrame'>\n",
      "Int64Index: 9364 entries, 0 to 10840\n",
      "Data columns (total 8 columns):\n",
      " #   Column          Non-Null Count  Dtype  \n",
      "---  ------          --------------  -----  \n",
      " 0   Category        9364 non-null   object \n",
      " 1   Rating          9364 non-null   float64\n",
      " 2   Reviews         9364 non-null   int64  \n",
      " 3   Installs        9364 non-null   object \n",
      " 4   Price           9364 non-null   float64\n",
      " 5   Content Rating  9364 non-null   object \n",
      " 6   Last Updated    9364 non-null   int64  \n",
      " 7   Android Ver     9364 non-null   object \n",
      "dtypes: float64(2), int64(2), object(4)\n",
      "memory usage: 658.4+ KB\n"
     ]
    }
   ],
   "source": [
    "data.info()"
   ],
   "metadata": {
    "collapsed": false,
    "pycharm": {
     "name": "#%%\n"
    }
   }
  }
 ],
 "metadata": {
  "kernelspec": {
   "name": "pycharm-22be031a",
   "language": "python",
   "display_name": "PyCharm (Projekt-PSI)"
  },
  "language_info": {
   "codemirror_mode": {
    "name": "ipython",
    "version": 2
   },
   "file_extension": ".py",
   "mimetype": "text/x-python",
   "name": "python",
   "nbconvert_exporter": "python",
   "pygments_lexer": "ipython2",
   "version": "2.7.6"
  }
 },
 "nbformat": 4,
 "nbformat_minor": 0
}